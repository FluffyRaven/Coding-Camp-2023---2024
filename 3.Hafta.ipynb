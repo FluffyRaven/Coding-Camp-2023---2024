{
 "cells": [
  {
   "cell_type": "markdown",
   "id": "0e98fdfd",
   "metadata": {
    "slideshow": {
     "slide_type": "slide"
    }
   },
   "source": [
    "# Hoş Geldiniz!!"
   ]
  },
  {
   "cell_type": "markdown",
   "id": "bf2d9902",
   "metadata": {
    "slideshow": {
     "slide_type": "slide"
    }
   },
   "source": [
    "# Listeler\n",
    "\n",
    "Python'da bir liste, sıralı ve değiştirilebilir öğelerin bir koleksiyonudur. Listeler, virgülle ayrılmış değerleri köşeli parantezler [] içine yerleştirerek oluşturulur. Listeler farklı veri türlerinin öğelerini içerebilir.\n",
    "\n",
    "A list in Python is a collection of items that are ordered and mutable (modifiable). Lists are created by placing comma-separated values inside square brackets []. Lists can contain elements of different data types."
   ]
  },
  {
   "cell_type": "code",
   "execution_count": 1,
   "id": "966096de",
   "metadata": {
    "slideshow": {
     "slide_type": "slide"
    }
   },
   "outputs": [],
   "source": [
    "# Bir liste oluşturma\n",
    "liste = [1, 2, 3, 4, 5]"
   ]
  },
  {
   "cell_type": "code",
   "execution_count": 2,
   "id": "34a4406a",
   "metadata": {
    "slideshow": {
     "slide_type": "fragment"
    }
   },
   "outputs": [
    {
     "name": "stdout",
     "output_type": "stream",
     "text": [
      "[1, 2, 3, 4, 5]\n"
     ]
    }
   ],
   "source": [
    "print(liste)"
   ]
  },
  {
   "cell_type": "code",
   "execution_count": 3,
   "id": "19b77ce6",
   "metadata": {
    "slideshow": {
     "slide_type": "fragment"
    }
   },
   "outputs": [],
   "source": [
    "isimler = ['Salulu', 'Elmalılı Hamdi', \"Trevor\"]"
   ]
  },
  {
   "cell_type": "code",
   "execution_count": 4,
   "id": "029f3c54",
   "metadata": {
    "slideshow": {
     "slide_type": "fragment"
    }
   },
   "outputs": [
    {
     "name": "stdout",
     "output_type": "stream",
     "text": [
      "['Salulu', 'Elmalılı Hamdi', 'Trevor']\n"
     ]
    }
   ],
   "source": [
    "print(isimler)"
   ]
  },
  {
   "cell_type": "code",
   "execution_count": 5,
   "id": "c6b0afd6",
   "metadata": {
    "slideshow": {
     "slide_type": "slide"
    }
   },
   "outputs": [],
   "source": [
    "isimler = ['Ahmet', \"Mehmet\", \"Hatice\"]"
   ]
  },
  {
   "cell_type": "code",
   "execution_count": 6,
   "id": "6193ce89",
   "metadata": {
    "slideshow": {
     "slide_type": "fragment"
    }
   },
   "outputs": [
    {
     "name": "stdout",
     "output_type": "stream",
     "text": [
      "['Ahmet', 'Mehmet', 'Hatice', 'Murat']\n"
     ]
    }
   ],
   "source": [
    "isimler.append('Murat')\n",
    "print(isimler)"
   ]
  },
  {
   "cell_type": "code",
   "execution_count": 7,
   "id": "47dfd383",
   "metadata": {
    "slideshow": {
     "slide_type": "fragment"
    }
   },
   "outputs": [
    {
     "name": "stdout",
     "output_type": "stream",
     "text": [
      "['Ahmet', 'Mehmet', 'Hatice']\n"
     ]
    }
   ],
   "source": [
    "isimler.remove('Murat')\n",
    "print(isimler)"
   ]
  },
  {
   "cell_type": "code",
   "execution_count": 8,
   "id": "b6d5cd90",
   "metadata": {
    "slideshow": {
     "slide_type": "fragment"
    }
   },
   "outputs": [
    {
     "name": "stdout",
     "output_type": "stream",
     "text": [
      "['Ahmet', 'Mehmet']\n"
     ]
    }
   ],
   "source": [
    "isimler.pop()\n",
    "print(isimler)"
   ]
  },
  {
   "cell_type": "code",
   "execution_count": 9,
   "id": "84ff5bdc",
   "metadata": {
    "slideshow": {
     "slide_type": "slide"
    }
   },
   "outputs": [],
   "source": [
    "hayvanlar = ['Kedi', 'Köpek', \"Ördek\", \"At\", 'Eşek', 'Aslan']"
   ]
  },
  {
   "cell_type": "code",
   "execution_count": 10,
   "id": "730fba3b",
   "metadata": {
    "slideshow": {
     "slide_type": "fragment"
    }
   },
   "outputs": [
    {
     "name": "stdout",
     "output_type": "stream",
     "text": [
      "Köpek\n"
     ]
    }
   ],
   "source": [
    "ikinci_hayvan = hayvanlar[1]\n",
    "print(ikinci_hayvan)"
   ]
  },
  {
   "cell_type": "code",
   "execution_count": 12,
   "id": "4037cc32",
   "metadata": {
    "slideshow": {
     "slide_type": "fragment"
    }
   },
   "outputs": [
    {
     "name": "stdout",
     "output_type": "stream",
     "text": [
      "['Köpek', 'Ördek', 'At', 'Eşek']\n"
     ]
    }
   ],
   "source": [
    "sevdiğim_hayvanlar = hayvanlar[1:5]\n",
    "print(sevdiğim_hayvanlar)"
   ]
  },
  {
   "cell_type": "code",
   "execution_count": 18,
   "id": "c64c165a",
   "metadata": {
    "slideshow": {
     "slide_type": "fragment"
    }
   },
   "outputs": [
    {
     "name": "stdout",
     "output_type": "stream",
     "text": [
      "Aslan\n"
     ]
    }
   ],
   "source": [
    "son_hayvan = hayvanlar[-1]\n",
    "print(son_hayvan)"
   ]
  },
  {
   "cell_type": "code",
   "execution_count": 20,
   "id": "12f724e3",
   "metadata": {
    "slideshow": {
     "slide_type": "fragment"
    }
   },
   "outputs": [
    {
     "name": "stdout",
     "output_type": "stream",
     "text": [
      "['At', 'Eşek', 'Aslan']\n"
     ]
    }
   ],
   "source": [
    "son_hayvan = hayvanlar[3:]\n",
    "print(son_hayvan)"
   ]
  },
  {
   "cell_type": "markdown",
   "id": "6a8145a5",
   "metadata": {
    "slideshow": {
     "slide_type": "slide"
    }
   },
   "source": [
    "# For Döngüsü\n",
    "\n",
    "Python'da bir for döngüsü, bir dizi (liste, demet, sözlük, dize vb.) üzerinde yineleme yapmak için kullanılır. Her bir öğe için tekrar tekrar bir kod bloğunu yürütür.\n",
    "\n",
    "A for loop in Python is used for iterating over a sequence (list, tuple, dictionary, string, etc.). It executes a block of code repeatedly for each item in the sequence."
   ]
  },
  {
   "cell_type": "code",
   "execution_count": 21,
   "id": "a7b58488",
   "metadata": {
    "slideshow": {
     "slide_type": "fragment"
    }
   },
   "outputs": [
    {
     "name": "stdout",
     "output_type": "stream",
     "text": [
      "2\n",
      "4\n",
      "6\n",
      "8\n",
      "10\n"
     ]
    }
   ],
   "source": [
    "liste = [1, 2, 3, 4, 5]\n",
    "for num in liste:\n",
    "    print(num*2)"
   ]
  },
  {
   "cell_type": "code",
   "execution_count": 22,
   "id": "444fbdb6",
   "metadata": {
    "slideshow": {
     "slide_type": "slide"
    }
   },
   "outputs": [
    {
     "name": "stdout",
     "output_type": "stream",
     "text": [
      "M\n",
      "a\n",
      "h\n",
      "m\n",
      "u\n",
      "d\n"
     ]
    }
   ],
   "source": [
    "ad = \"Mahmud\"\n",
    "for harf in ad:\n",
    "    print(harf)"
   ]
  },
  {
   "cell_type": "code",
   "execution_count": 23,
   "id": "a079656f",
   "metadata": {
    "slideshow": {
     "slide_type": "fragment"
    }
   },
   "outputs": [
    {
     "name": "stdout",
     "output_type": "stream",
     "text": [
      "[5, 6, 7, 8, 9]\n"
     ]
    }
   ],
   "source": [
    "liste = []\n",
    "for num in range(5,10):\n",
    "    liste.append(num)\n",
    "    \n",
    "print(liste)"
   ]
  },
  {
   "cell_type": "markdown",
   "id": "a0592eb5",
   "metadata": {
    "slideshow": {
     "slide_type": "slide"
    }
   },
   "source": [
    "# While Döngüsü\n",
    "\n",
    "Python'da bir while döngüsü, bir koşul doğru olduğu sürece bir kod bloğunu tekrar tekrar yürütmek için kullanılır. Koşul yanlış olana kadar yinelemeye devam eder.\n",
    "\n",
    "A while loop in Python is used to execute a block of code repeatedly as long as a condition is true. It continues iterating until the condition becomes false."
   ]
  },
  {
   "cell_type": "code",
   "execution_count": 24,
   "id": "17f1122d",
   "metadata": {
    "slideshow": {
     "slide_type": "fragment"
    }
   },
   "outputs": [
    {
     "name": "stdout",
     "output_type": "stream",
     "text": [
      "Genç\n",
      "Genç\n",
      "Genç\n"
     ]
    }
   ],
   "source": [
    "yas = 15\n",
    "\n",
    "while yas < 18:\n",
    "    print(\"Genç\")\n",
    "    yas = yas + 1"
   ]
  },
  {
   "cell_type": "markdown",
   "id": "160fdb3d",
   "metadata": {
    "slideshow": {
     "slide_type": "slide"
    }
   },
   "source": [
    "# Ödev!!!!\n",
    "\n",
    "bir ismi alıp onun ilk ve son harfini çıkaracak bir kodu yazınız"
   ]
  },
  {
   "cell_type": "code",
   "execution_count": 25,
   "id": "eecec84f",
   "metadata": {
    "slideshow": {
     "slide_type": "fragment"
    }
   },
   "outputs": [],
   "source": [
    "#Giriş: Yahya\n",
    "#Çıkış: Y\n",
    "#       a"
   ]
  },
  {
   "cell_type": "markdown",
   "id": "728bf5f1",
   "metadata": {
    "slideshow": {
     "slide_type": "slide"
    }
   },
   "source": [
    "# Ödev!!!!\n",
    "2'den büyük bir numarayı alıp, 2'den başlayıp alınan sayıya kadar olan sayıların çarpımını verecek bir kodu yazınız"
   ]
  },
  {
   "cell_type": "code",
   "execution_count": null,
   "id": "b0b47d17",
   "metadata": {
    "slideshow": {
     "slide_type": "fragment"
    }
   },
   "outputs": [],
   "source": [
    "# Giriş: 5\n",
    "# Çıkış: 120\n",
    "\n",
    "# 2*3*4*5"
   ]
  }
 ],
 "metadata": {
  "celltoolbar": "Slideshow",
  "kernelspec": {
   "display_name": "Python 3 (ipykernel)",
   "language": "python",
   "name": "python3"
  },
  "language_info": {
   "codemirror_mode": {
    "name": "ipython",
    "version": 3
   },
   "file_extension": ".py",
   "mimetype": "text/x-python",
   "name": "python",
   "nbconvert_exporter": "python",
   "pygments_lexer": "ipython3",
   "version": "3.11.4"
  }
 },
 "nbformat": 4,
 "nbformat_minor": 5
}
