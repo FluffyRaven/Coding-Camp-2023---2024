{
 "cells": [
  {
   "cell_type": "markdown",
   "id": "148ef462",
   "metadata": {
    "slideshow": {
     "slide_type": "slide"
    }
   },
   "source": [
    "# Python Temel Bilgiler\n",
    "\n",
    "Konular:\n",
    "- Değişkenler\n",
    "- Veri Tipleri\n",
    "- Print Fonksiyonu\n",
    "- Input Fonksiyonu\n",
    "\n",
    "Agenda:\n",
    "- Variables\n",
    "- Data Types\n",
    "- Print Function\n",
    "- Input Function"
   ]
  },
  {
   "cell_type": "markdown",
   "id": "17074ef0",
   "metadata": {
    "slideshow": {
     "slide_type": "slide"
    }
   },
   "source": [
    "## Değişkenler (Variables)\n",
    "\n",
    "Python'da bir değişken oluşturmak için adını belirleyip değer atayabiliriz. Değişken adları, harf veya alt çizgi (_) ile başlamalıdır. Ayrıca, sayı ile başlayamazlar. İşte bir örnek:\n",
    "\n",
    "To create a variable in Python, we can specify its name and assign a value. Variable names must start with a letter or underscore (_) in Python. Additionally, they cannot begin with a number. Here is an example:\n"
   ]
  },
  {
   "cell_type": "code",
   "execution_count": 1,
   "id": "12e547a2",
   "metadata": {
    "scrolled": true,
    "slideshow": {
     "slide_type": "slide"
    }
   },
   "outputs": [
    {
     "name": "stdout",
     "output_type": "stream",
     "text": [
      "Merhaba, benim adım Ahmet\n",
      "Yaşım 20\n"
     ]
    }
   ],
   "source": [
    "# Değişken oluşturma\n",
    "isim = \"Ahmet\"\n",
    "yas = 20\n",
    "\n",
    "# Oluşturulan değişkenleri ekrana yazdırma\n",
    "print(\"Merhaba, benim adım\", isim)\n",
    "print(\"Yaşım\", yas)\n"
   ]
  },
  {
   "cell_type": "markdown",
   "id": "04174338",
   "metadata": {
    "slideshow": {
     "slide_type": "slide"
    }
   },
   "source": [
    "## Veri Tipleri (Data Types)\n",
    "\n",
    "Python'da farklı veri tipleri bulunmaktadır. Bazı temel veri tipleri şunlardır:\n",
    "- `int` (Tam Sayı): 1, 2, 100\n",
    "- `float` (Ondalık Sayı): 3.14, 2.0, 0.5\n",
    "- `str` (Karakter Dizisi): \"Merhaba\", 'Python'\n",
    "- `bool` (Boolean): True, False\n",
    "\n",
    "Aşağıda bu veri tipleriyle ilgili örnekler bulunmaktadır:\n",
    "\n",
    "\n",
    "In Python, there are different data types. Some basic data types include:\n",
    "\n",
    "- `int` (Integer): 1, 2, 100\n",
    "- `float` (Floating-point): 3.14, 2.0, 0.5\n",
    "- `str` (String): \"Hello\", 'Python'\n",
    "- `bool` (Boolean): True, False\n",
    "\n",
    "Below are examples related to these data types:"
   ]
  },
  {
   "cell_type": "code",
   "execution_count": 2,
   "id": "1cd905e7",
   "metadata": {
    "scrolled": true,
    "slideshow": {
     "slide_type": "slide"
    }
   },
   "outputs": [],
   "source": [
    "yas = 17\n",
    "isim = \"Mehmet Konuşur\"\n",
    "ortalama = 89.778\n",
    "erkek_mi = True\n"
   ]
  },
  {
   "cell_type": "code",
   "execution_count": 3,
   "id": "9086486b",
   "metadata": {
    "scrolled": true,
    "slideshow": {
     "slide_type": "fragment"
    }
   },
   "outputs": [
    {
     "data": {
      "text/plain": [
       "int"
      ]
     },
     "execution_count": 3,
     "metadata": {},
     "output_type": "execute_result"
    }
   ],
   "source": [
    "type(yas)\n"
   ]
  },
  {
   "cell_type": "code",
   "execution_count": 4,
   "id": "12fc6402",
   "metadata": {
    "scrolled": true,
    "slideshow": {
     "slide_type": "fragment"
    }
   },
   "outputs": [
    {
     "data": {
      "text/plain": [
       "str"
      ]
     },
     "execution_count": 4,
     "metadata": {},
     "output_type": "execute_result"
    }
   ],
   "source": [
    "type(isim)\n"
   ]
  },
  {
   "cell_type": "code",
   "execution_count": 5,
   "id": "dd790246",
   "metadata": {
    "slideshow": {
     "slide_type": "slide"
    }
   },
   "outputs": [],
   "source": [
    "yas = 17\n",
    "isim = \"Mehmet Konuşur\"\n",
    "ortalama = 89.778\n",
    "erkek_mi = True\n"
   ]
  },
  {
   "cell_type": "code",
   "execution_count": 6,
   "id": "38af2252",
   "metadata": {
    "scrolled": true,
    "slideshow": {
     "slide_type": "fragment"
    }
   },
   "outputs": [
    {
     "data": {
      "text/plain": [
       "float"
      ]
     },
     "execution_count": 6,
     "metadata": {},
     "output_type": "execute_result"
    }
   ],
   "source": [
    "type(ortalama)\n"
   ]
  },
  {
   "cell_type": "code",
   "execution_count": 7,
   "id": "a8ec8b2a",
   "metadata": {
    "scrolled": true,
    "slideshow": {
     "slide_type": "fragment"
    }
   },
   "outputs": [
    {
     "data": {
      "text/plain": [
       "bool"
      ]
     },
     "execution_count": 7,
     "metadata": {},
     "output_type": "execute_result"
    }
   ],
   "source": [
    "type(erkek_mi)\n"
   ]
  },
  {
   "cell_type": "markdown",
   "id": "60ac55e1",
   "metadata": {
    "slideshow": {
     "slide_type": "slide"
    }
   },
   "source": [
    "## Print Fonksiyonu\n",
    "\n",
    "`print()` fonksiyonu, ekrana çıktı vermeye yarayan temel bir fonksiyondur. Bu fonksiyon, parantez içine yazılan değerleri ekrana yazdırır. İşte bir örnek:\n",
    "\n",
    "\n",
    "The `print()` function is a fundamental function used to output content to the screen in Python. This function prints the values specified within the parentheses to the screen. Here is an example:\n",
    "\n"
   ]
  },
  {
   "cell_type": "code",
   "execution_count": 8,
   "id": "35319bd4",
   "metadata": {
    "scrolled": true,
    "slideshow": {
     "slide_type": "slide"
    }
   },
   "outputs": [
    {
     "name": "stdout",
     "output_type": "stream",
     "text": [
      "Merhaba!\n"
     ]
    }
   ],
   "source": [
    "print(\"Merhaba!\")\n"
   ]
  },
  {
   "cell_type": "code",
   "execution_count": 9,
   "id": "774414a0",
   "metadata": {
    "scrolled": true,
    "slideshow": {
     "slide_type": "fragment"
    }
   },
   "outputs": [
    {
     "name": "stdout",
     "output_type": "stream",
     "text": [
      "Ayşe\n"
     ]
    }
   ],
   "source": [
    "ad = \"Ayşe\"\n",
    "print(ad)\n"
   ]
  },
  {
   "cell_type": "code",
   "execution_count": 10,
   "id": "99b86e8c",
   "metadata": {
    "scrolled": true,
    "slideshow": {
     "slide_type": "fragment"
    }
   },
   "outputs": [
    {
     "name": "stdout",
     "output_type": "stream",
     "text": [
      "Benim ismim Ayşe\n"
     ]
    }
   ],
   "source": [
    "print(\"Benim ismim\", ad)\n"
   ]
  },
  {
   "cell_type": "code",
   "execution_count": 11,
   "id": "242821c1",
   "metadata": {
    "scrolled": true,
    "slideshow": {
     "slide_type": "slide"
    }
   },
   "outputs": [],
   "source": [
    "num1 = 6\n",
    "num2 = 3\n"
   ]
  },
  {
   "cell_type": "code",
   "execution_count": 12,
   "id": "8bdd16cb",
   "metadata": {
    "slideshow": {
     "slide_type": "fragment"
    }
   },
   "outputs": [
    {
     "name": "stdout",
     "output_type": "stream",
     "text": [
      "9\n"
     ]
    }
   ],
   "source": [
    "print(num1 + num2)\n"
   ]
  },
  {
   "cell_type": "code",
   "execution_count": 13,
   "id": "1ec942f2",
   "metadata": {
    "slideshow": {
     "slide_type": "fragment"
    }
   },
   "outputs": [
    {
     "name": "stdout",
     "output_type": "stream",
     "text": [
      "3\n"
     ]
    }
   ],
   "source": [
    "print(num1 - num2)\n"
   ]
  },
  {
   "cell_type": "code",
   "execution_count": 14,
   "id": "00f0993e",
   "metadata": {
    "slideshow": {
     "slide_type": "slide"
    }
   },
   "outputs": [],
   "source": [
    "num1 = 6\n",
    "num2 = 3\n"
   ]
  },
  {
   "cell_type": "code",
   "execution_count": 15,
   "id": "683fc01b",
   "metadata": {
    "slideshow": {
     "slide_type": "fragment"
    }
   },
   "outputs": [
    {
     "name": "stdout",
     "output_type": "stream",
     "text": [
      "18\n"
     ]
    }
   ],
   "source": [
    "print(num1 * num2)\n"
   ]
  },
  {
   "cell_type": "code",
   "execution_count": 16,
   "id": "b8553b47",
   "metadata": {
    "slideshow": {
     "slide_type": "fragment"
    }
   },
   "outputs": [
    {
     "name": "stdout",
     "output_type": "stream",
     "text": [
      "2.0\n"
     ]
    }
   ],
   "source": [
    "print(num1 / num2)\n"
   ]
  },
  {
   "cell_type": "code",
   "execution_count": 17,
   "id": "b4476b91",
   "metadata": {
    "slideshow": {
     "slide_type": "fragment"
    }
   },
   "outputs": [
    {
     "name": "stdout",
     "output_type": "stream",
     "text": [
      "36\n"
     ]
    }
   ],
   "source": [
    "print(num1 ** 2)\n"
   ]
  },
  {
   "cell_type": "code",
   "execution_count": 19,
   "id": "3d3e9881",
   "metadata": {
    "slideshow": {
     "slide_type": "slide"
    }
   },
   "outputs": [],
   "source": [
    "ad = 'Ali'\n",
    "soyad = 'Shah'\n"
   ]
  },
  {
   "cell_type": "code",
   "execution_count": 20,
   "id": "f843fa66",
   "metadata": {
    "slideshow": {
     "slide_type": "fragment"
    }
   },
   "outputs": [
    {
     "name": "stdout",
     "output_type": "stream",
     "text": [
      "Ali\n"
     ]
    }
   ],
   "source": [
    "print(ad)\n"
   ]
  },
  {
   "cell_type": "code",
   "execution_count": 21,
   "id": "77ac1d77",
   "metadata": {
    "slideshow": {
     "slide_type": "fragment"
    }
   },
   "outputs": [
    {
     "name": "stdout",
     "output_type": "stream",
     "text": [
      "Ali Shah\n"
     ]
    }
   ],
   "source": [
    "print(ad, soyad)\n"
   ]
  },
  {
   "cell_type": "code",
   "execution_count": 22,
   "id": "a7061e93",
   "metadata": {
    "slideshow": {
     "slide_type": "fragment"
    }
   },
   "outputs": [
    {
     "name": "stdout",
     "output_type": "stream",
     "text": [
      "AliShah\n"
     ]
    }
   ],
   "source": [
    "print(ad + soyad)\n"
   ]
  },
  {
   "cell_type": "code",
   "execution_count": 23,
   "id": "07cbb419",
   "metadata": {
    "slideshow": {
     "slide_type": "slide"
    }
   },
   "outputs": [],
   "source": [
    "ad = 'Ali'\n",
    "soyad = 'Shah'\n"
   ]
  },
  {
   "cell_type": "code",
   "execution_count": 24,
   "id": "005e7831",
   "metadata": {
    "slideshow": {
     "slide_type": "fragment"
    }
   },
   "outputs": [
    {
     "name": "stdout",
     "output_type": "stream",
     "text": [
      "Ali Shah\n"
     ]
    }
   ],
   "source": [
    "print(ad + ' ' + soyad)\n"
   ]
  },
  {
   "cell_type": "code",
   "execution_count": 25,
   "id": "cc4c23ab",
   "metadata": {
    "slideshow": {
     "slide_type": "fragment"
    }
   },
   "outputs": [
    {
     "name": "stdout",
     "output_type": "stream",
     "text": [
      "AliAli\n"
     ]
    }
   ],
   "source": [
    "print(ad * 2)\n"
   ]
  },
  {
   "cell_type": "code",
   "execution_count": 26,
   "id": "02af20d4",
   "metadata": {
    "slideshow": {
     "slide_type": "slide"
    }
   },
   "outputs": [
    {
     "name": "stdout",
     "output_type": "stream",
     "text": [
      "43\n"
     ]
    }
   ],
   "source": [
    "num1 = '4'\n",
    "num2 = '3'\n",
    "\n",
    "print(num1 + num2)\n"
   ]
  },
  {
   "cell_type": "code",
   "execution_count": 27,
   "id": "220a9bc2",
   "metadata": {
    "slideshow": {
     "slide_type": "fragment"
    }
   },
   "outputs": [
    {
     "name": "stdout",
     "output_type": "stream",
     "text": [
      "num1\n"
     ]
    }
   ],
   "source": [
    "print(\"num1\")\n"
   ]
  },
  {
   "cell_type": "code",
   "execution_count": 28,
   "id": "aef26659",
   "metadata": {
    "slideshow": {
     "slide_type": "fragment"
    }
   },
   "outputs": [
    {
     "name": "stdout",
     "output_type": "stream",
     "text": [
      "Ben Ahmet'e bir şey söyledim\n"
     ]
    }
   ],
   "source": [
    "print('Ben Ahmet\\'e bir şey söyledim')\n"
   ]
  },
  {
   "cell_type": "code",
   "execution_count": 29,
   "id": "a2b88a51",
   "metadata": {
    "slideshow": {
     "slide_type": "slide"
    }
   },
   "outputs": [],
   "source": [
    "kim = \"Alibaba\"\n",
    "nereden = \"pazardan\"\n",
    "nereye = \"okula\"\n"
   ]
  },
  {
   "cell_type": "code",
   "execution_count": 30,
   "id": "6471c375",
   "metadata": {
    "slideshow": {
     "slide_type": "fragment"
    }
   },
   "outputs": [
    {
     "name": "stdout",
     "output_type": "stream",
     "text": [
      "Alibaba pazardan okula gidiyor\n"
     ]
    }
   ],
   "source": [
    "print(kim, nereden, nereye, \"gidiyor\")\n"
   ]
  },
  {
   "cell_type": "code",
   "execution_count": 31,
   "id": "c643416b",
   "metadata": {
    "slideshow": {
     "slide_type": "fragment"
    }
   },
   "outputs": [
    {
     "name": "stdout",
     "output_type": "stream",
     "text": [
      "Alibaba pazardan okula gidiyor\n"
     ]
    }
   ],
   "source": [
    "print(kim + ' ' + nereden + ' ' + nereye + \" gidiyor\")\n"
   ]
  },
  {
   "cell_type": "code",
   "execution_count": 32,
   "id": "f4652614",
   "metadata": {
    "slideshow": {
     "slide_type": "fragment"
    }
   },
   "outputs": [
    {
     "name": "stdout",
     "output_type": "stream",
     "text": [
      "Alibaba pazardan okula gidiyor\n"
     ]
    }
   ],
   "source": [
    "print(f\"{kim} {nereden} {nereye} gidiyor\")\n"
   ]
  },
  {
   "cell_type": "markdown",
   "id": "f9b76088",
   "metadata": {
    "slideshow": {
     "slide_type": "slide"
    }
   },
   "source": [
    "# Yeter bee!!\n",
    "\n",
    "Artık yorulduk bee! Hepsini Shukran yapıyor biz de bir şeyleri yapalım yaa!!"
   ]
  },
  {
   "cell_type": "code",
   "execution_count": 87,
   "id": "41629ea3",
   "metadata": {
    "slideshow": {
     "slide_type": "fragment"
    }
   },
   "outputs": [
    {
     "name": "stdout",
     "output_type": "stream",
     "text": [
      "UMIHL'de okuyan Einstein seneye 41 yaşında olacak\n"
     ]
    }
   ],
   "source": [
    "okul = \"UMIHL\"\n",
    "ogrenci = \"Einstein\"\n",
    "yas = 40\n",
    "\n",
    "print(f\"{okul}'de okuyan {ogrenci} seneye {yas + 1} yaşında olacak\")\n"
   ]
  },
  {
   "cell_type": "markdown",
   "id": "d01b70b1",
   "metadata": {
    "slideshow": {
     "slide_type": "skip"
    }
   },
   "source": [
    "## Input Fonksiyonu\n",
    "\n",
    "`input()` fonksiyonu, kullanıcıdan veri almamıza olanak tanır. Kullanıcıdan alınan veri, genellikle bir değişkene atanır. İşte bir örnek:\n",
    "\n",
    "The `input()` function allows us to take input from the user in Python. The data entered by the user is typically assigned to a variable. Here is an example:"
   ]
  },
  {
   "cell_type": "code",
   "execution_count": null,
   "id": "8e54c2d6",
   "metadata": {
    "scrolled": true,
    "slideshow": {
     "slide_type": "skip"
    }
   },
   "outputs": [],
   "source": [
    "isim = input(\"Adınızı girin: \")\n",
    "yas = input(\"Yaşınızı girin: \")\n",
    "\n",
    "print(\"Merhaba\", isim + \"! Yaşınız\", yas)\n"
   ]
  },
  {
   "cell_type": "code",
   "execution_count": null,
   "id": "9c4f3cd7",
   "metadata": {
    "scrolled": true,
    "slideshow": {
     "slide_type": "skip"
    }
   },
   "outputs": [],
   "source": []
  }
 ],
 "metadata": {
  "celltoolbar": "Slideshow",
  "kernelspec": {
   "display_name": "Python 3 (ipykernel)",
   "language": "python",
   "name": "python3"
  },
  "language_info": {
   "codemirror_mode": {
    "name": "ipython",
    "version": 3
   },
   "file_extension": ".py",
   "mimetype": "text/x-python",
   "name": "python",
   "nbconvert_exporter": "python",
   "pygments_lexer": "ipython3",
   "version": "3.11.4"
  }
 },
 "nbformat": 4,
 "nbformat_minor": 5
}
