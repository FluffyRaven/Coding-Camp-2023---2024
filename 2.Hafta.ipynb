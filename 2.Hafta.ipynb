{
 "cells": [
  {
   "cell_type": "markdown",
   "id": "80dd9b4d",
   "metadata": {
    "slideshow": {
     "slide_type": "slide"
    }
   },
   "source": [
    "# Data Type (Veri Türü) Dönüşümü\n",
    "\n",
    "\n",
    "Python'da, bir değişkenin veri türünü değiştirmek için çeşitli dönüşüm işlemleri bulunmaktadır. Bu dönüşümler, bir veri türünden diğerine geçişi sağlar.\n",
    "\n",
    "In Python, there are various conversion operations to change the data type of a variable. These conversions enable the transition from one data type to another.\n",
    "\n",
    "### Tamsayıdan (Integer) Ondalıklı Sayıya (Float) Dönüşüm"
   ]
  },
  {
   "cell_type": "code",
   "execution_count": 44,
   "id": "d3ce0770",
   "metadata": {
    "slideshow": {
     "slide_type": "fragment"
    }
   },
   "outputs": [
    {
     "name": "stdout",
     "output_type": "stream",
     "text": [
      "5.0\n"
     ]
    }
   ],
   "source": [
    "num1 = 5\n",
    "num2 = float(num1)\n",
    "print(num2)"
   ]
  },
  {
   "cell_type": "markdown",
   "id": "e2266fa0",
   "metadata": {
    "slideshow": {
     "slide_type": "slide"
    }
   },
   "source": [
    "# Dizeden (String) tamsayıya (Integer) dönüşüm\n"
   ]
  },
  {
   "cell_type": "code",
   "execution_count": 49,
   "id": "00460845",
   "metadata": {
    "slideshow": {
     "slide_type": "fragment"
    }
   },
   "outputs": [
    {
     "name": "stdout",
     "output_type": "stream",
     "text": [
      "123\n"
     ]
    }
   ],
   "source": [
    "sayi_str = \"123\"\n",
    "sayi_int = int(sayi_str)\n",
    "print(sayi_int)"
   ]
  },
  {
   "cell_type": "markdown",
   "id": "b2a67c01",
   "metadata": {
    "slideshow": {
     "slide_type": "slide"
    }
   },
   "source": [
    "# Input Fonksiyonu (Input Function)\n",
    "\n",
    "Python'da `input` giriş almak için kullanılır. Kullanıcıyla etkileşime girmenize ve daha sonraki işlemler için değişkenlerde saklanabilecek verileri almanıza olanak tanır.\n",
    "\n",
    "In Python, the `input` function is used to take user input from the keyboard. It allows you to interact with the user and receive data that can be stored in variables for further processing.\n",
    "\n",
    "### Yazma Şekli (Syntax)\n",
    "\n"
   ]
  },
  {
   "cell_type": "code",
   "execution_count": 50,
   "id": "9729920a",
   "metadata": {
    "slideshow": {
     "slide_type": "fragment"
    }
   },
   "outputs": [
    {
     "name": "stdout",
     "output_type": "stream",
     "text": [
      "Bir Numara Yazın : 23\n"
     ]
    }
   ],
   "source": [
    "Numara = input(\"Bir Numara Yazın : \")"
   ]
  },
  {
   "cell_type": "code",
   "execution_count": 53,
   "id": "113b1c83",
   "metadata": {
    "slideshow": {
     "slide_type": "fragment"
    }
   },
   "outputs": [
    {
     "name": "stdout",
     "output_type": "stream",
     "text": [
      "23\n"
     ]
    }
   ],
   "source": [
    "print(Numara)"
   ]
  },
  {
   "cell_type": "code",
   "execution_count": 54,
   "id": "84232315",
   "metadata": {
    "slideshow": {
     "slide_type": "slide"
    }
   },
   "outputs": [
    {
     "name": "stdout",
     "output_type": "stream",
     "text": [
      "Adınızı girin: Bodoni\n",
      "Merhaba, Bodoni!\n"
     ]
    }
   ],
   "source": [
    "ad = input(\"Adınızı girin: \")\n",
    "\n",
    "print(\"Merhaba, \" + ad + \"!\")"
   ]
  },
  {
   "cell_type": "code",
   "execution_count": 61,
   "id": "8b724e09",
   "metadata": {
    "slideshow": {
     "slide_type": "fragment"
    }
   },
   "outputs": [
    {
     "name": "stdout",
     "output_type": "stream",
     "text": [
      "Yaşınızı girin: 99\n",
      "Gelecek Sene Siz 100 yaşında olacaksınız\n"
     ]
    }
   ],
   "source": [
    "yas = int(input(\"Yaşınızı girin: \"))\n",
    "\n",
    "print(f\"Gelecek Sene Siz {yas + 1} yaşında olacaksınız\")"
   ]
  },
  {
   "cell_type": "markdown",
   "id": "fab1dcda",
   "metadata": {
    "slideshow": {
     "slide_type": "slide"
    }
   },
   "source": [
    "## Antrenman!!\n",
    "\n",
    "İki tane numarayı sorup, bu iki numaranın toplamını ekrana çıkartacak bir kodu yazın.\n",
    "\n",
    "Ask for two numbers and write a code that will display the sum of these two numbers."
   ]
  },
  {
   "cell_type": "code",
   "execution_count": 62,
   "id": "1df66c56",
   "metadata": {
    "slideshow": {
     "slide_type": "fragment"
    }
   },
   "outputs": [
    {
     "name": "stdout",
     "output_type": "stream",
     "text": [
      "Yaşınızı girin: 43\n",
      "Siz 43 yaşındasınız.\n"
     ]
    }
   ],
   "source": [
    "yas = int(input(\"Yaşınızı girin: \"))\n",
    "\n",
    "print(\"Siz\", yas, \"yaşındasınız.\")"
   ]
  },
  {
   "cell_type": "markdown",
   "id": "faac33e2",
   "metadata": {
    "slideshow": {
     "slide_type": "slide"
    }
   },
   "source": [
    "## Aritmetik Operatörler\n",
    "\n",
    "- **Toplama:** `+` (örneğin, `a + b`)\n",
    "- **Çıkarma:** `-` (örneğin, `a - b`)\n",
    "- **Çarpma:** `*` (örneğin, `a * b`)\n",
    "- **Bölme:** `/` (örneğin, `a / b`)\n",
    "- **Taban Bölme (Floor Division):** `//` (örneğin, `a // b`)\n",
    "- **Kalan (Modulus, Remainder):** `%` (örneğin, `a % b`)\n",
    "- **Kuvvet:** `**` (örneğin, `a ** b`)"
   ]
  },
  {
   "cell_type": "markdown",
   "id": "ecb4ac80",
   "metadata": {
    "slideshow": {
     "slide_type": "slide"
    }
   },
   "source": [
    "## Karşılaştırma Operatörleri\n",
    "\n",
    "- **Eşit:** `==` (örneğin, `a == b`)\n",
    "- **Eşit Değil:** `!=` (örneğin, `a != b`)\n",
    "- **Büyük:** `>` (örneğin, `a > b`)\n",
    "- **Küçük:** `<` (örneğin, `a < b`)\n",
    "- **Büyük veya Eşit:** `>=` (örneğin, `a >= b`)\n",
    "- **Küçük veya Eşit:** `<=` (örneğin, `a <= b`)"
   ]
  },
  {
   "cell_type": "code",
   "execution_count": 63,
   "id": "3f548d87",
   "metadata": {
    "scrolled": true,
    "slideshow": {
     "slide_type": "slide"
    }
   },
   "outputs": [],
   "source": [
    "hava = \"Güneşli\""
   ]
  },
  {
   "cell_type": "code",
   "execution_count": 64,
   "id": "b87545bb",
   "metadata": {
    "slideshow": {
     "slide_type": "fragment"
    }
   },
   "outputs": [
    {
     "name": "stdout",
     "output_type": "stream",
     "text": [
      "True\n"
     ]
    }
   ],
   "source": [
    "print(hava == \"Güneşli\")"
   ]
  },
  {
   "cell_type": "code",
   "execution_count": 65,
   "id": "152ec67d",
   "metadata": {
    "slideshow": {
     "slide_type": "fragment"
    }
   },
   "outputs": [
    {
     "name": "stdout",
     "output_type": "stream",
     "text": [
      "False\n"
     ]
    }
   ],
   "source": [
    "print(hava == \"Kapalı\")"
   ]
  },
  {
   "cell_type": "code",
   "execution_count": 66,
   "id": "40503a1e",
   "metadata": {
    "slideshow": {
     "slide_type": "fragment"
    }
   },
   "outputs": [
    {
     "name": "stdout",
     "output_type": "stream",
     "text": [
      "True\n"
     ]
    }
   ],
   "source": [
    "print(hava != \"Kapalı\")"
   ]
  },
  {
   "cell_type": "markdown",
   "id": "5c65a2fd",
   "metadata": {
    "slideshow": {
     "slide_type": "slide"
    }
   },
   "source": [
    "## Koşullu İfadeler (Conditionals) Nedir?\n",
    "\n",
    "Programlamada koşullu ifadeler, belirli koşullara dayalı olarak kodunuzda kararlar vermenizi sağlar. Belirli bir koşulun doğru veya yanlış olmasına bağlı olarak farklı kod bloklarını yürütmenizi sağlar.\n",
    "\n",
    "Conditionals in programming allow you to make decisions in your code based on certain conditions. They enable you to execute different blocks of code depending on whether a specified condition is true or false.\n",
    "\n",
    "\n",
    "## Temel Sözdizimi (Basic Syntax)\n",
    "\n",
    "Python'da bir `if` ifadesi için temel sözdizimi şu şekildedir:\n",
    "\n",
    "The basic syntax for an `if` statement in Python is as follows:"
   ]
  },
  {
   "cell_type": "code",
   "execution_count": 70,
   "id": "89b40cfe",
   "metadata": {
    "slideshow": {
     "slide_type": "slide"
    }
   },
   "outputs": [
    {
     "name": "stdout",
     "output_type": "stream",
     "text": [
      "x 5'ten büyüktür\n"
     ]
    }
   ],
   "source": [
    "x = 10\n",
    "if x > 5:\n",
    "    print(\"x 5'ten büyüktür\")"
   ]
  },
  {
   "cell_type": "code",
   "execution_count": 71,
   "id": "092bd413",
   "metadata": {
    "slideshow": {
     "slide_type": "fragment"
    }
   },
   "outputs": [
    {
     "name": "stdout",
     "output_type": "stream",
     "text": [
      "x 5'ten büyük değil\n"
     ]
    }
   ],
   "source": [
    "x = 3\n",
    "if x > 5:\n",
    "    print(\"x 5'ten büyük\")\n",
    "else:\n",
    "    print(\"x 5'ten büyük değil\")"
   ]
  },
  {
   "cell_type": "code",
   "execution_count": 74,
   "id": "561ea6f0",
   "metadata": {
    "slideshow": {
     "slide_type": "fragment"
    }
   },
   "outputs": [
    {
     "name": "stdout",
     "output_type": "stream",
     "text": [
      "Num : 5\n",
      "x 5'e eşit\n"
     ]
    }
   ],
   "source": [
    "x = int(input(\"Num : \"))\n",
    "if x > 5:\n",
    "    print(\"x 5'ten büyük\")\n",
    "elif x == 5:\n",
    "    print(\"x 5'e eşit\")\n",
    "else:\n",
    "    print(\"x 5'ten küçük\")"
   ]
  }
 ],
 "metadata": {
  "celltoolbar": "Slideshow",
  "kernelspec": {
   "display_name": "Python 3 (ipykernel)",
   "language": "python",
   "name": "python3"
  },
  "language_info": {
   "codemirror_mode": {
    "name": "ipython",
    "version": 3
   },
   "file_extension": ".py",
   "mimetype": "text/x-python",
   "name": "python",
   "nbconvert_exporter": "python",
   "pygments_lexer": "ipython3",
   "version": "3.11.4"
  }
 },
 "nbformat": 4,
 "nbformat_minor": 5
}
